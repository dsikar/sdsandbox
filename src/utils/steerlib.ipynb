{
 "cells": [
  {
   "cell_type": "code",
   "execution_count": 10,
   "metadata": {},
   "outputs": [],
   "source": [
    "# steerlib - Helper library to create videos and plots\n",
    "\n",
    "# modules\n",
    "import fnmatch\n",
    "import json\n",
    "import seaborn as sns\n",
    "import os\n",
    "import numpy as np\n",
    "import argparse\n",
    "import matplotlib.pyplot as plt\n",
    "import statistics\n",
    "import seaborn as sns\n",
    "import pickle"
   ]
  },
  {
   "cell_type": "code",
   "execution_count": 15,
   "metadata": {},
   "outputs": [],
   "source": [
    "def load_json(filepath):\n",
    "    \"\"\"\n",
    "    Load a json file\n",
    "    Inputs\n",
    "        filepath: string, path to file\n",
    "    Outputs\n",
    "        data: dictionary, json key, value pairs\n",
    "    Example\n",
    "    path = \"~/git/msc-data/unity/roboRacingLeague/log/logs_Sat_Nov_14_12_36_16_2020/record_11640.json\"\n",
    "    js = load_json(path)\n",
    "    \"\"\"\n",
    "    with open(filepath, \"rt\") as fp:\n",
    "        data = json.load(fp)\n",
    "    return data"
   ]
  },
  {
   "cell_type": "code",
   "execution_count": 16,
   "metadata": {},
   "outputs": [],
   "source": [
    "def GetJSONSteeringAngles(filemask):\n",
    "    \"\"\"\n",
    "    Get steering angles stored as 'user/angle' attributes in .json files\n",
    "    Inputs:\n",
    "        filemask: string, path and mask\n",
    "    Outputs\n",
    "        svals: list, steering values\n",
    "    \"\"\"\n",
    "    filemask = os.path.expanduser(filemask)\n",
    "    path, mask = os.path.split(filemask)\n",
    "\n",
    "    matches = []\n",
    "    for root, dirnames, filenames in os.walk(path):\n",
    "        for filename in fnmatch.filter(filenames, mask):\n",
    "            matches.append(os.path.join(root, filename))\n",
    "\n",
    "    # steering values\n",
    "    svals = []\n",
    "    for fullpath in matches:\n",
    "            frame_number = os.path.basename(fullpath).split(\"_\")[0]\n",
    "            json_filename = os.path.join(os.path.dirname(fullpath), \"record_\" + frame_number + \".json\")\n",
    "            jobj = load_json(json_filename)\n",
    "            svals.append(jobj['user/angle'])\n",
    "    return svals"
   ]
  },
  {
   "cell_type": "code",
   "execution_count": 64,
   "metadata": {},
   "outputs": [],
   "source": [
    "def jsonSteeringBins(filemask, pname=\"output\", save=True, nc=25, rmout=0):\n",
    "    \"\"\"\n",
    "    Plot a steering values' histogram\n",
    "    Inputs\n",
    "        filemask: string, where to search for images, and corresponding .json files\n",
    "        pname: string, output plot name\n",
    "        save: boolean, save plot to disk\n",
    "        nc: int, normalization constant, used in the simulator to put angles in range\n",
    "        -1, 1. Default is 25.\n",
    "        rmout: integer, outlier range to remove\n",
    "    Outputs\n",
    "        svals: list containing non-normalized steering angles\n",
    "    Example:\n",
    "    # svals = jsonSteeringBins('~/git/msc-data/unity/genRoad/*.jpg', 'genRoad', save=True, nc=25, rmout=20)\n",
    "    \"\"\"\n",
    "    svals = GetJSONSteeringAngles(filemask)\n",
    "    values = len(svals)\n",
    "    svalscp = [element * nc for element in svals]\n",
    "    if(rmout>0):\n",
    "        my_iterator = filter(lambda svalscp: svalscp <= rmout and svalscp >= (-1 * rmout), svalscp)\n",
    "        svalsrmout = list(my_iterator)\n",
    "        svalscp = svalsrmout\n",
    "        values = len(svalsrmout)\n",
    "        print(\"Removed {} records\".format(len(svals) - len(svalsrmout)))\n",
    "        svals = svalsrmout\n",
    "    mean = (\"%.2f\" % statistics.mean(svalscp))\n",
    "    std = (\"%.2f\" % statistics.stdev(svalscp))\n",
    "    plt.title=(pname)\n",
    "    # NB Plotted as normalized histogram\n",
    "    sns.distplot(svalscp, bins=nc*2, kde=False, norm_hist=True,\n",
    "    axlabel= pname + ' st. degs. norm. hist. ' + str(values) + ' values, mean = ' + mean + ' std = ' + std)\n",
    "    #if(save):\n",
    "    #    sns.save(\"output.png\")\n",
    "    if(save):\n",
    "        plt.savefig(pname + '.png')\n",
    "    plt.show()\n",
    "    # return for downstream processing if required\n",
    "    return svals"
   ]
  },
  {
   "cell_type": "code",
   "execution_count": 63,
   "metadata": {},
   "outputs": [],
   "source": [
    "def removeOutliers(svals, rmout, nc):\n",
    "    \"\"\"\n",
    "    Remove outliers from a list\n",
    "    Inputs\n",
    "        svals: double, steering values\n",
    "        rmout: integer, -+ range tp remove\n",
    "        nc: steering normalization constant - same as used in simulator (max steering)\n",
    "    Output\n",
    "        svals: list, list with values excluded\n",
    "    \"\"\"\n",
    "    svalscp = [element * nc for element in svals]\n",
    "    my_iterator = filter(lambda svalscp: svalscp <= rmout and svalscp >= (-1 * rmout), svalscp)\n",
    "    svalsrmout = list(my_iterator)\n",
    "    svalscp = svalsrmout\n",
    "    values = len(svalsrmout)\n",
    "    print(\"Removed {} records\".format(len(svalscp) - len(svalsrmout)))\n",
    "    svals = svalsrmout  \n",
    "    return svals"
   ]
  },
  {
   "cell_type": "code",
   "execution_count": 65,
   "metadata": {},
   "outputs": [],
   "source": [
    "def listSteeringBins(svals, pname=\"output\", save=True, nc=25, rmout=0):\n",
    "    \"\"\"\n",
    "    Plot a steering values' histogram\n",
    "    Inputs\n",
    "        svals: list, array of normalized steering values\n",
    "        pname: string, output plot name\n",
    "        save: boolean, save plot to disk\n",
    "        nc: int, normalization constant, used in the simulator to put angles in range\n",
    "        -1, 1. Default is 25.\n",
    "        rmout: integer, outlier range to remove\n",
    "    Outputs\n",
    "        none\n",
    "    \"\"\"\n",
    "    svalscp = [element * nc for element in svals]\n",
    "    values = len(svals)\n",
    "    \n",
    "    # remove outliers\n",
    "    if(rmout>0):\n",
    "        #my_iterator = filter(lambda svalscp: svalscp <= rmout and svalscp >= (-1 * rmout), svalscp)\n",
    "        #svalsrmout = list(my_iterator)\n",
    "        #svalscp = svalsrmout\n",
    "        #values = len(svalsrmout)\n",
    "        #print(\"Removed {} records\".format(len(svals) - len(svalsrmout)))\n",
    "        #svals = svalsrmout\n",
    "        svals = removeOutliers(svalscp, rmout, nc)\n",
    "        values = len(svals)\n",
    "    mean = (\"%.2f\" % statistics.mean(svalscp))\n",
    "    std = (\"%.2f\" % statistics.stdev(svalscp))\n",
    "    plt.title=(pname)\n",
    "    # NB Plotted as normalized histogram\n",
    "    sns.distplot(svalscp, bins=nc*2, kde=False, norm_hist=True, \n",
    "    axlabel= pname + ' steer. degs. norm. hist. ' + str(values) + ' values, mean = ' + mean + ' std = ' + std)\n",
    "    #if(save):\n",
    "    #    sns.save(\"output.png\")\n",
    "    if(save):\n",
    "        plt.savefig(pname + '.png')\n",
    "    plt.show()"
   ]
  },
  {
   "cell_type": "code",
   "execution_count": 66,
   "metadata": {},
   "outputs": [
    {
     "name": "stdout",
     "output_type": "stream",
     "text": [
      "Removed 0 records\n"
     ]
    },
    {
     "data": {
      "image/png": "[encoded data removed]",
      "text/plain": [
       "<Figure size 432x288 with 1 Axes>"
      ]
     },
     "metadata": {
      "needs_background": "light"
     },
     "output_type": "display_data"
    }
   ],
   "source": [
    "filemask = '~/git/msc-data/unity/genRoad/*.jpg'\n",
    "svals = GetJSONSteeringAngles(filemask)\n",
    "listSteeringBins(svals, pname=\"outputExOut20\", save=True, nc=25, rmout=20)"
   ]
  },
  {
   "cell_type": "code",
   "execution_count": 58,
   "metadata": {},
   "outputs": [
    {
     "data": {
      "image/png": "[encoded data removed]",
      "text/plain": [
       "<Figure size 432x288 with 1 Axes>"
      ]
     },
     "metadata": {
      "needs_background": "light"
     },
     "output_type": "display_data"
    }
   ],
   "source": [
    "filemask = '~/git/msc-data/unity/genRoad/*.jpg'\n",
    "svals = GetJSONSteeringAngles(filemask)\n",
    "listSteeringBins(svals, pname=\"output\", save=True, nc=25, rmout=0)"
   ]
  },
  {
   "cell_type": "code",
   "execution_count": 68,
   "metadata": {},
   "outputs": [
    {
     "name": "stdout",
     "output_type": "stream",
     "text": [
      "genRoad\n",
      "log_sample\n",
      "roboRacingLeague\n",
      "smallLoop\n",
      "smallLoopingCourse\n",
      "warehouse\n"
     ]
    },
    {
     "data": {
      "text/plain": [
       "'\\nSDSandbox   unity/smallLoopingCourse/log/* 34443 from small\\\\_looping\\\\_course\\nSDSandbox   unity/warehouse/*   41126 From Warehouse course\\nSDSandbox   unity/smallLoop/*   45422   From small\\\\_looping\\\\_course\\nSDSandbox   unity/roboRacingLeague/* 12778 From \"Robot Racing League\" course\\nSDSandbox   unity/log\\\\_sample   25791   From small\\\\_looping\\\\_course\\nSDSandbox   unity/genRoad 280727 From \"Generated Road\" course\\n'"
      ]
     },
     "execution_count": 68,
     "metadata": {},
     "output_type": "execute_result"
    }
   ],
   "source": [
    "# generate training dataset latex tables for report\n",
    "for folder in ['genRoad','log_sample', 'roboRacingLeague','smallLoop', 'smallLoopingCourse','warehouse']:\n",
    "    print(folder)\n",
    "    \n",
    "\"\"\"\n",
    "SDSandbox   unity/smallLoopingCourse/log/* 34443 from small\\_looping\\_course\n",
    "SDSandbox   unity/warehouse/*   41126 From Warehouse course\n",
    "SDSandbox   unity/smallLoop/*   45422   From small\\_looping\\_course\n",
    "SDSandbox   unity/roboRacingLeague/* 12778 From \"Robot Racing League\" course\n",
    "SDSandbox   unity/log\\_sample   25791   From small\\_looping\\_course\n",
    "SDSandbox   unity/genRoad 280727 From \"Generated Road\" course\n",
    "\"\"\""
   ]
  },
  {
   "cell_type": "code",
   "execution_count": null,
   "metadata": {},
   "outputs": [],
   "source": [
    "\\begin{table}[]\n",
    "\\begin{center}\n",
    "\\begin{tabular}{|l|l|l|l|}\n",
    "\\hline\n",
    "\\multicolumn{4}{|c|}{Deliverables - Datasets} \\\\ \\hline\n",
    "\n",
    "%ID Task Deliverable Description\n",
    "%1   Download  D1  Udacity real world dataset\n",
    "%2   Generate    D2  Unity3D simulator data\n",
    "%3   Combine D3  Udacity real and simulator data\n",
    "%4   Mechanical Turk dry/rainy Ford dataset\n",
    "\n",
    "ID & Task &  Deliverable & Description \\\\ \\hline\\hline\n",
    "1 & Download & D1 &  Udacity real world dataset  \\\\ \\hline\n",
    "2 & Generate & D2 &  Udacity simulator data  \\\\ \\hline\n",
    "3 & Combine & D3 &  Udacity real and simulator data  \\\\ \\hline\n",
    "4 & Gather & D4 &  Mechanical Turk dry/rainy Ford dataset  \\\\ \\hline\n",
    "\n",
    "\\end{tabular}\n",
    "\\end{center}\n",
    "\\caption{Datasets used to train models}\n",
    "\\label{Deliverables-Datasets}\n",
    "\\end{table}"
   ]
  }
 ],
 "metadata": {
  "kernelspec": {
   "display_name": "Python 3 (ipykernel)",
   "language": "python",
   "name": "python3"
  },
  "language_info": {
   "codemirror_mode": {
    "name": "ipython",
    "version": 3
   },
   "file_extension": ".py",
   "mimetype": "text/x-python",
   "name": "python",
   "nbconvert_exporter": "python",
   "pygments_lexer": "ipython3",
   "version": "3.9.7"
  }
 },
 "nbformat": 4,
 "nbformat_minor": 2
}
